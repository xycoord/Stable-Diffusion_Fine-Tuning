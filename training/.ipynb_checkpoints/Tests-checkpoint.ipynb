{
 "cells": [
  {
   "cell_type": "code",
   "execution_count": 1,
   "id": "2a6ed5f9-56a7-4247-a39e-64e8a0ee7042",
   "metadata": {},
   "outputs": [],
   "source": [
    "import numpy as np\n",
    "import matplotlib.pyplot as plt\n",
    "import torchvision\n",
    "import torch\n",
    "import torch.nn as nn\n",
    "import torch.nn.functional as F\n",
    "import torchvision\n",
    "import json\n",
    "from torchvision import transforms\n",
    "from tqdm import tqdm\n",
    "from torchvision import datasets, transforms\n",
    "from IPython.display import display, clear_output\n",
    "%matplotlib inline"
   ]
  },
  {
   "cell_type": "code",
   "execution_count": 4,
   "id": "0bcee7da-afa9-4404-af6f-f3e301c51972",
   "metadata": {},
   "outputs": [],
   "source": [
    "class Visualizer():\n",
    "    def __init__(self, num_rows=1, num_cols=1, figsize=(5,5), axis_off=True, title='', tight=False, cm=None):\n",
    "        self.fig, self.axs = plt.subplots(num_rows, num_cols, figsize=figsize, squeeze=False)\n",
    "        # remove ticks\n",
    "        if axis_off:\n",
    "          plt.setp(plt.gcf().get_axes(), xticks=[], yticks=[])\n",
    "        # set colormap\n",
    "        if cm is not None:\n",
    "            plt.set_cmap(cm)\n",
    "        # set supertitle\n",
    "        self.fig.suptitle(title)\n",
    "        if tight:\n",
    "            self.fig.subplots_adjust(top=0.88)\n",
    "\n",
    "    def add_image_subplot(self, i, j, image, normalize=False, title_str=''):\n",
    "        if normalize:\n",
    "            image = self.normalize_image(image)\n",
    "        if len(image.shape) == 3:\n",
    "            #BGR -> RGB\n",
    "            image = image[:, :, ::-1]\n",
    "        self.axs[i, j].imshow(image)\n",
    "        self.axs[i, j].set_title(title_str)\n",
    "\n",
    "    def show(self):\n",
    "        display(self.fig)\n",
    "        clear_output(wait = True)\n",
    "        plt.pause(0.05)\n",
    "\n",
    "    def add_stem_subplot(self, i, j, x, y, title_str=''):\n",
    "        self.axs[i, j].stem(x, y)\n",
    "        self.axs[i, j].set_title(title_str)\n",
    "\n",
    "    def add_subplot(self, i, j, data, title_str=''):\n",
    "        self.axs[i, j].plot(data)\n",
    "        self.axs[i, j].set_title(title_str)\n",
    "\n",
    "    def add_subplot_xy(self, i, j, x, y, title_str=''):\n",
    "        self.axs[i, j].plot(x,y)\n",
    "        self.axs[i, j].set_title(title_str)\n",
    "\n",
    "    def add_bar_subplot(self, i, j, x, y, title_str=''):\n",
    "        self.axs[i, j].bar(x, y)\n",
    "        self.axs[i, j].set_title(title_str)\n",
    "\n",
    "    @staticmethod\n",
    "    def normalize_image(image):\n",
    "        img = np.float64(image) - np.min(image)\n",
    "        img /= np.max(img)\n",
    "        return img"
   ]
  },
  {
   "cell_type": "code",
   "execution_count": null,
   "id": "7763680c-811a-4d76-a979-85fe44df4226",
   "metadata": {},
   "outputs": [],
   "source": []
  }
 ],
 "metadata": {
  "kernelspec": {
   "display_name": "Python 3 (ipykernel)",
   "language": "python",
   "name": "python3"
  },
  "language_info": {
   "codemirror_mode": {
    "name": "ipython",
    "version": 3
   },
   "file_extension": ".py",
   "mimetype": "text/x-python",
   "name": "python",
   "nbconvert_exporter": "python",
   "pygments_lexer": "ipython3",
   "version": "3.10.13"
  }
 },
 "nbformat": 4,
 "nbformat_minor": 5
}
